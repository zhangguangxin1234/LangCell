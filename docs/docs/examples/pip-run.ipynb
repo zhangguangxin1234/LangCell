{
  "nbformat": 4,
  "nbformat_minor": 0,
  "metadata": {
    "colab": {
      "provenance": [],
      "gpuType": "V28"
    },
    "kernelspec": {
      "name": "python3",
      "display_name": "Python 3"
    },
    "language_info": {
      "name": "python"
    },
    "accelerator": "TPU"
  },
  "cells": [
    {
      "cell_type": "code",
      "source": [
        "!pip install  cellxgene_census\n",
        "\n",
        "\n",
        "import cellxgene_census\n",
        "\n",
        "census = cellxgene_census.open_soma()\n",
        "\n",
        "sex_cell_metadata = cellxgene_census.get_obs(census, \"homo_sapiens\", column_names = [\n",
        " 'dataset_id',\n",
        " 'assay',\n",
        " 'assay_ontology_term_id',\n",
        " 'cell_type',\n",
        " 'cell_type_ontology_term_id',\n",
        " 'development_stage',\n",
        " 'development_stage_ontology_term_id',\n",
        " 'disease',\n",
        " 'disease_ontology_term_id',\n",
        " 'donor_id',\n",
        " 'is_primary_data',\n",
        " 'self_reported_ethnicity',\n",
        " 'self_reported_ethnicity_ontology_term_id',\n",
        " 'sex',\n",
        " 'sex_ontology_term_id',\n",
        " 'suspension_type',\n",
        " 'tissue',\n",
        " 'tissue_ontology_term_id',\n",
        " 'tissue_general',\n",
        " 'tissue_general_ontology_term_id'])\n",
        "\n",
        "sex_cell_metadata.drop_duplicates()"
      ],
      "metadata": {
        "id": "KWZe2InrL0ji"
      },
      "execution_count": null,
      "outputs": []
    }
  ]
}